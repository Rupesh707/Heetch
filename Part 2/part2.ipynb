{
 "cells": [
  {
   "cell_type": "markdown",
   "metadata": {},
   "source": [
    "#### **@Author : Rupesh Kumar**\n",
    "\n",
    "#### **Date : 24/10/2023**"
   ]
  },
  {
   "cell_type": "markdown",
   "metadata": {},
   "source": [
    "<p style=\"background-color:#ff5277;font-family:newtimeroman;color:#FFF9ED;font-size:120%;text-align:center;border-radius:10px 10px;\"> PART 2</p>\n",
    "\n",
    "##### Building on our previous examination in Part 1, where we went through the stages spanning from the initial app launch to the user's ride request within the 'Pre-order phase.\n",
    "\n",
    "<a id=\"1\"></a>\n",
    "<p style=\"background-color:#ff5277;font-family:newtimeroman;color:#FFF9ED;font-size:120%;text-align:center;border-radius:10px 10px;\"> Business Understanding</p>\n",
    "\n",
    "##### We will focus on assessing app functionality, identifying areas of improvement & present our recommendations. To do that we will first explore the data and conduct a through study via visually analysis and share recommendations. \n",
    "\n",
    "\n",
    "<a id='top'></a>\n",
    "<div class=\"list-group\" id=\"list-tab\" role=\"tablist\">\n",
    "<p style=\"background-color:#ff5277;font-family:newtimeroman;color:#FFF9ED;font-size:150%;text-align:center;border-radius:10px 10px;\">TABLE OF CONTENTS</p>   \n",
    "    \n",
    "\n",
    "- [1. BUSINESS UNDERSTANDING](#1)\n",
    "\n",
    "- [2. DATA UNDERSTANDING](#2)\n",
    "\n",
    "    - [2.1 Get information on the data](#2.1)\n",
    "    - [2.2 Conducting summary statistics](#2.2)\n",
    "    - [2.3 Taking care of Null values](#2.3)\n",
    "    - [2.4 Converting data types](#2.4)\n",
    "- [3. DATA PREPARATION](#3)\n",
    "    - [3.1 Investigating all elements within each feature](#3.1)\n",
    "    - [3.2 Aggregating & grouping values to visualize purchasing behaviour](#3.2)\n",
    "    - [3.3 Creating time based features](#3.3)\n",
    "    - [3.4  Heatmap Study](#3.4)\n",
    "    - [3.5  Visualizing order time period](#3.5)\n",
    "    - [3.6 Creating order group feature](#3.6)\n",
    "    - [3.7 Visualizing order group feature](#3.7)\n",
    "    - [3.8 Visualizing top 10 products](#3.8)\n",
    "    - [3.9 Visualizing bottom 10 products](#3.9)\n",
    "    - [3.9 Aggregating & grouping values to understand purchasing behaviour](#3.10)\n",
    "    - [3.10 Aggregating & grouping values to understand product reordered ratio](#3.11)\n",
    "    - [3.11 Aggregating & grouping values to visualize reordered ratio](#3.12)\n",
    "\n",
    "\n",
    "- [4. CONCLUSION](#6)\n",
    "\n",
    "\n"
   ]
  },
  {
   "cell_type": "code",
   "execution_count": 16,
   "metadata": {},
   "outputs": [
    {
     "data": {
      "text/html": [
       "        <script type=\"text/javascript\">\n",
       "        window.PlotlyConfig = {MathJaxConfig: 'local'};\n",
       "        if (window.MathJax && window.MathJax.Hub && window.MathJax.Hub.Config) {window.MathJax.Hub.Config({SVG: {font: \"STIX-Web\"}});}\n",
       "        if (typeof require !== 'undefined') {\n",
       "        require.undef(\"plotly\");\n",
       "        requirejs.config({\n",
       "            paths: {\n",
       "                'plotly': ['https://cdn.plot.ly/plotly-2.26.0.min']\n",
       "            }\n",
       "        });\n",
       "        require(['plotly'], function(Plotly) {\n",
       "            window._Plotly = Plotly;\n",
       "        });\n",
       "        }\n",
       "        </script>\n",
       "        "
      ]
     },
     "metadata": {},
     "output_type": "display_data"
    }
   ],
   "source": [
    "# Importing Packages\n",
    "import pandas as pd\n",
    "import numpy as np\n",
    "import seaborn as sns\n",
    "import statsmodels.api as sm\n",
    "import matplotlib.pyplot as plt\n",
    "import plotly.express as px\n",
    "import plotly.graph_objs as go\n",
    "from IPython.display import Image, display, HTML\n",
    "import plotly.offline as pyo\n",
    "pyo.init_notebook_mode(connected=True)"
   ]
  },
  {
   "cell_type": "code",
   "execution_count": 17,
   "metadata": {},
   "outputs": [],
   "source": [
    "## Data Load\n",
    "df = pd.read_csv(\"/Users/rupesh/Desktop/COD/Heetch/data/mobile_events.csv\")"
   ]
  },
  {
   "cell_type": "code",
   "execution_count": 18,
   "metadata": {},
   "outputs": [
    {
     "data": {
      "text/html": [
       "<div>\n",
       "<style scoped>\n",
       "    .dataframe tbody tr th:only-of-type {\n",
       "        vertical-align: middle;\n",
       "    }\n",
       "\n",
       "    .dataframe tbody tr th {\n",
       "        vertical-align: top;\n",
       "    }\n",
       "\n",
       "    .dataframe thead th {\n",
       "        text-align: right;\n",
       "    }\n",
       "</style>\n",
       "<table border=\"1\" class=\"dataframe\">\n",
       "  <thead>\n",
       "    <tr style=\"text-align: right;\">\n",
       "      <th></th>\n",
       "      <th>device_id</th>\n",
       "      <th>event_name</th>\n",
       "      <th>timestamp</th>\n",
       "    </tr>\n",
       "  </thead>\n",
       "  <tbody>\n",
       "    <tr>\n",
       "      <th>0</th>\n",
       "      <td>1</td>\n",
       "      <td>pickup_shown</td>\n",
       "      <td>2020-10-02 15:36:02</td>\n",
       "    </tr>\n",
       "    <tr>\n",
       "      <th>1</th>\n",
       "      <td>1</td>\n",
       "      <td>dropoff_shown</td>\n",
       "      <td>2020-10-02 15:36:05</td>\n",
       "    </tr>\n",
       "    <tr>\n",
       "      <th>2</th>\n",
       "      <td>1</td>\n",
       "      <td>pickup_confirmed</td>\n",
       "      <td>2020-10-02 15:36:05</td>\n",
       "    </tr>\n",
       "    <tr>\n",
       "      <th>3</th>\n",
       "      <td>1</td>\n",
       "      <td>dropoff_address_typed</td>\n",
       "      <td>2020-10-02 15:36:06</td>\n",
       "    </tr>\n",
       "    <tr>\n",
       "      <th>4</th>\n",
       "      <td>1</td>\n",
       "      <td>dropoff_shown</td>\n",
       "      <td>2020-10-02 15:36:10</td>\n",
       "    </tr>\n",
       "    <tr>\n",
       "      <th>...</th>\n",
       "      <td>...</td>\n",
       "      <td>...</td>\n",
       "      <td>...</td>\n",
       "    </tr>\n",
       "    <tr>\n",
       "      <th>65529</th>\n",
       "      <td>865</td>\n",
       "      <td>pickup_shown</td>\n",
       "      <td>2020-10-03 09:26:51</td>\n",
       "    </tr>\n",
       "    <tr>\n",
       "      <th>65530</th>\n",
       "      <td>865</td>\n",
       "      <td>pickup_shown</td>\n",
       "      <td>2020-10-03 10:07:21</td>\n",
       "    </tr>\n",
       "    <tr>\n",
       "      <th>65531</th>\n",
       "      <td>865</td>\n",
       "      <td>pickup_shown</td>\n",
       "      <td>2020-10-03 10:41:08</td>\n",
       "    </tr>\n",
       "    <tr>\n",
       "      <th>65532</th>\n",
       "      <td>865</td>\n",
       "      <td>pickup_address_typed</td>\n",
       "      <td>2020-10-03 10:41:09</td>\n",
       "    </tr>\n",
       "    <tr>\n",
       "      <th>65533</th>\n",
       "      <td>865</td>\n",
       "      <td>pickup_shown</td>\n",
       "      <td>2020-10-03 10:41:47</td>\n",
       "    </tr>\n",
       "  </tbody>\n",
       "</table>\n",
       "<p>65534 rows × 3 columns</p>\n",
       "</div>"
      ],
      "text/plain": [
       "       device_id             event_name            timestamp\n",
       "0              1           pickup_shown  2020-10-02 15:36:02\n",
       "1              1          dropoff_shown  2020-10-02 15:36:05\n",
       "2              1       pickup_confirmed  2020-10-02 15:36:05\n",
       "3              1  dropoff_address_typed  2020-10-02 15:36:06\n",
       "4              1          dropoff_shown  2020-10-02 15:36:10\n",
       "...          ...                    ...                  ...\n",
       "65529        865           pickup_shown  2020-10-03 09:26:51\n",
       "65530        865           pickup_shown  2020-10-03 10:07:21\n",
       "65531        865           pickup_shown  2020-10-03 10:41:08\n",
       "65532        865   pickup_address_typed  2020-10-03 10:41:09\n",
       "65533        865           pickup_shown  2020-10-03 10:41:47\n",
       "\n",
       "[65534 rows x 3 columns]"
      ]
     },
     "execution_count": 18,
     "metadata": {},
     "output_type": "execute_result"
    }
   ],
   "source": [
    "df"
   ]
  },
  {
   "cell_type": "markdown",
   "metadata": {},
   "source": [
    "<a id=\"2\"></a>\n",
    "<p style=\"background-color:#ff5277;font-family:newtimeroman;color:#FFF9ED;font-size:120%;text-align:center;border-radius:10px 10px;\"> Data Understanding</p>\n",
    "\n",
    "#### **The dataset consists of 65534 Rows & 3 Columns which are as follows :**\n",
    "\n",
    "- device_id– (A unique id to identity the customer device)\n",
    "- event_name - (Different steps the user goes through when interacting with the app)\n",
    "- timestamp – (Time of the events)"
   ]
  },
  {
   "cell_type": "markdown",
   "metadata": {},
   "source": [
    "## <b>2.1 <span style='color:#ff5277'> Get information on the data</span></b>"
   ]
  },
  {
   "cell_type": "code",
   "execution_count": 19,
   "metadata": {},
   "outputs": [
    {
     "name": "stdout",
     "output_type": "stream",
     "text": [
      "<class 'pandas.core.frame.DataFrame'>\n",
      "RangeIndex: 65534 entries, 0 to 65533\n",
      "Data columns (total 3 columns):\n",
      " #   Column      Non-Null Count  Dtype \n",
      "---  ------      --------------  ----- \n",
      " 0   device_id   65534 non-null  int64 \n",
      " 1   event_name  65534 non-null  object\n",
      " 2   timestamp   65534 non-null  object\n",
      "dtypes: int64(1), object(2)\n",
      "memory usage: 1.5+ MB\n"
     ]
    }
   ],
   "source": [
    "df.info()"
   ]
  },
  {
   "cell_type": "markdown",
   "metadata": {},
   "source": [
    "<a id=\"2.2\"></a>\n",
    "## <b>2.2 <span style='color:#ff5277'> Conducting summary statistics</span></b>"
   ]
  },
  {
   "cell_type": "code",
   "execution_count": 20,
   "metadata": {},
   "outputs": [
    {
     "data": {
      "text/plain": [
       "device_id     0\n",
       "event_name    0\n",
       "timestamp     0\n",
       "dtype: int64"
      ]
     },
     "execution_count": 20,
     "metadata": {},
     "output_type": "execute_result"
    }
   ],
   "source": [
    "# LOOKING TO CONFIRM IF WE HAVE ANY NULL VALUES IN THE DATA\n",
    "df.isnull().sum()"
   ]
  },
  {
   "cell_type": "markdown",
   "metadata": {},
   "source": [
    "<a id=\"2.3\"></a>\n",
    "## <b>2.3 <span style='color:#ff5277'> Investigating all elements within each feature</span></b>"
   ]
  },
  {
   "cell_type": "code",
   "execution_count": 21,
   "metadata": {},
   "outputs": [
    {
     "name": "stdout",
     "output_type": "stream",
     "text": [
      "The number of unique values for features device_id : 865\n",
      "The number of unique values for features event_name : 9 --- ['dropoff_address_typed' 'dropoff_confirmed' 'dropoff_shown'\n",
      " 'payments_selected' 'payments_shown' 'pickup_address_typed'\n",
      " 'pickup_confirmed' 'pickup_shown' 'ride_order_tapped']\n",
      "The number of unique values for features timestamp : 51337\n"
     ]
    }
   ],
   "source": [
    "for colum in df:\n",
    "    unique_values = np.unique(df[colum])\n",
    "    nr_values = len(unique_values)\n",
    "    if nr_values < 22:\n",
    "        print(\"The number of unique values for features {} : {} --- {}\".format(colum, nr_values,unique_values))\n",
    "    else:\n",
    "         print(\"The number of unique values for features {} : {}\".format(colum, nr_values))"
   ]
  },
  {
   "cell_type": "markdown",
   "metadata": {},
   "source": [
    "<a id=\"2.3\"></a>\n",
    "## <b>2.3 <span style='color:#ff5277'> Creating time based features</span></b>"
   ]
  },
  {
   "cell_type": "code",
   "execution_count": 22,
   "metadata": {},
   "outputs": [],
   "source": [
    "# Convert 'timestamp' to datetime\n",
    "df['timestamp'] = pd.to_datetime(df['timestamp'])\n",
    "\n",
    "# Extract the day and create a new 'Day' column in 'YYYY-MM-DD' format\n",
    "df['Day'] = df['timestamp'].dt.strftime('%Y-%m-%d')\n",
    "\n",
    "# Extract the day of the week and the time of day\n",
    "df['day_of_week'] = df['timestamp'].dt.day_name()\n",
    "\n",
    "# Extract the time and create a new 'Time' column in 'h:m:s' format\n",
    "df['Time'] = df['timestamp'].dt.strftime('%H:%M:%S')"
   ]
  },
  {
   "cell_type": "code",
   "execution_count": 23,
   "metadata": {},
   "outputs": [
    {
     "data": {
      "text/html": [
       "<div>\n",
       "<style scoped>\n",
       "    .dataframe tbody tr th:only-of-type {\n",
       "        vertical-align: middle;\n",
       "    }\n",
       "\n",
       "    .dataframe tbody tr th {\n",
       "        vertical-align: top;\n",
       "    }\n",
       "\n",
       "    .dataframe thead th {\n",
       "        text-align: right;\n",
       "    }\n",
       "</style>\n",
       "<table border=\"1\" class=\"dataframe\">\n",
       "  <thead>\n",
       "    <tr style=\"text-align: right;\">\n",
       "      <th></th>\n",
       "      <th>device_id</th>\n",
       "      <th>event_name</th>\n",
       "      <th>timestamp</th>\n",
       "      <th>Day</th>\n",
       "      <th>day_of_week</th>\n",
       "      <th>Time</th>\n",
       "    </tr>\n",
       "  </thead>\n",
       "  <tbody>\n",
       "    <tr>\n",
       "      <th>0</th>\n",
       "      <td>1</td>\n",
       "      <td>pickup_shown</td>\n",
       "      <td>2020-10-02 15:36:02</td>\n",
       "      <td>2020-10-02</td>\n",
       "      <td>Friday</td>\n",
       "      <td>15:36:02</td>\n",
       "    </tr>\n",
       "    <tr>\n",
       "      <th>1</th>\n",
       "      <td>1</td>\n",
       "      <td>dropoff_shown</td>\n",
       "      <td>2020-10-02 15:36:05</td>\n",
       "      <td>2020-10-02</td>\n",
       "      <td>Friday</td>\n",
       "      <td>15:36:05</td>\n",
       "    </tr>\n",
       "    <tr>\n",
       "      <th>2</th>\n",
       "      <td>1</td>\n",
       "      <td>pickup_confirmed</td>\n",
       "      <td>2020-10-02 15:36:05</td>\n",
       "      <td>2020-10-02</td>\n",
       "      <td>Friday</td>\n",
       "      <td>15:36:05</td>\n",
       "    </tr>\n",
       "    <tr>\n",
       "      <th>3</th>\n",
       "      <td>1</td>\n",
       "      <td>dropoff_address_typed</td>\n",
       "      <td>2020-10-02 15:36:06</td>\n",
       "      <td>2020-10-02</td>\n",
       "      <td>Friday</td>\n",
       "      <td>15:36:06</td>\n",
       "    </tr>\n",
       "    <tr>\n",
       "      <th>4</th>\n",
       "      <td>1</td>\n",
       "      <td>dropoff_shown</td>\n",
       "      <td>2020-10-02 15:36:10</td>\n",
       "      <td>2020-10-02</td>\n",
       "      <td>Friday</td>\n",
       "      <td>15:36:10</td>\n",
       "    </tr>\n",
       "    <tr>\n",
       "      <th>...</th>\n",
       "      <td>...</td>\n",
       "      <td>...</td>\n",
       "      <td>...</td>\n",
       "      <td>...</td>\n",
       "      <td>...</td>\n",
       "      <td>...</td>\n",
       "    </tr>\n",
       "    <tr>\n",
       "      <th>65529</th>\n",
       "      <td>865</td>\n",
       "      <td>pickup_shown</td>\n",
       "      <td>2020-10-03 09:26:51</td>\n",
       "      <td>2020-10-03</td>\n",
       "      <td>Saturday</td>\n",
       "      <td>09:26:51</td>\n",
       "    </tr>\n",
       "    <tr>\n",
       "      <th>65530</th>\n",
       "      <td>865</td>\n",
       "      <td>pickup_shown</td>\n",
       "      <td>2020-10-03 10:07:21</td>\n",
       "      <td>2020-10-03</td>\n",
       "      <td>Saturday</td>\n",
       "      <td>10:07:21</td>\n",
       "    </tr>\n",
       "    <tr>\n",
       "      <th>65531</th>\n",
       "      <td>865</td>\n",
       "      <td>pickup_shown</td>\n",
       "      <td>2020-10-03 10:41:08</td>\n",
       "      <td>2020-10-03</td>\n",
       "      <td>Saturday</td>\n",
       "      <td>10:41:08</td>\n",
       "    </tr>\n",
       "    <tr>\n",
       "      <th>65532</th>\n",
       "      <td>865</td>\n",
       "      <td>pickup_address_typed</td>\n",
       "      <td>2020-10-03 10:41:09</td>\n",
       "      <td>2020-10-03</td>\n",
       "      <td>Saturday</td>\n",
       "      <td>10:41:09</td>\n",
       "    </tr>\n",
       "    <tr>\n",
       "      <th>65533</th>\n",
       "      <td>865</td>\n",
       "      <td>pickup_shown</td>\n",
       "      <td>2020-10-03 10:41:47</td>\n",
       "      <td>2020-10-03</td>\n",
       "      <td>Saturday</td>\n",
       "      <td>10:41:47</td>\n",
       "    </tr>\n",
       "  </tbody>\n",
       "</table>\n",
       "<p>65534 rows × 6 columns</p>\n",
       "</div>"
      ],
      "text/plain": [
       "       device_id             event_name           timestamp         Day  \\\n",
       "0              1           pickup_shown 2020-10-02 15:36:02  2020-10-02   \n",
       "1              1          dropoff_shown 2020-10-02 15:36:05  2020-10-02   \n",
       "2              1       pickup_confirmed 2020-10-02 15:36:05  2020-10-02   \n",
       "3              1  dropoff_address_typed 2020-10-02 15:36:06  2020-10-02   \n",
       "4              1          dropoff_shown 2020-10-02 15:36:10  2020-10-02   \n",
       "...          ...                    ...                 ...         ...   \n",
       "65529        865           pickup_shown 2020-10-03 09:26:51  2020-10-03   \n",
       "65530        865           pickup_shown 2020-10-03 10:07:21  2020-10-03   \n",
       "65531        865           pickup_shown 2020-10-03 10:41:08  2020-10-03   \n",
       "65532        865   pickup_address_typed 2020-10-03 10:41:09  2020-10-03   \n",
       "65533        865           pickup_shown 2020-10-03 10:41:47  2020-10-03   \n",
       "\n",
       "      day_of_week      Time  \n",
       "0          Friday  15:36:02  \n",
       "1          Friday  15:36:05  \n",
       "2          Friday  15:36:05  \n",
       "3          Friday  15:36:06  \n",
       "4          Friday  15:36:10  \n",
       "...           ...       ...  \n",
       "65529    Saturday  09:26:51  \n",
       "65530    Saturday  10:07:21  \n",
       "65531    Saturday  10:41:08  \n",
       "65532    Saturday  10:41:09  \n",
       "65533    Saturday  10:41:47  \n",
       "\n",
       "[65534 rows x 6 columns]"
      ]
     },
     "execution_count": 23,
     "metadata": {},
     "output_type": "execute_result"
    }
   ],
   "source": [
    "df"
   ]
  },
  {
   "cell_type": "markdown",
   "metadata": {},
   "source": [
    "## <b>2.3 <span style='color:#ff5277'> WEEKLY EVENT DISTRIBUTION STUDY</span></b>"
   ]
  },
  {
   "cell_type": "code",
   "execution_count": 24,
   "metadata": {},
   "outputs": [
    {
     "data": {
      "application/vnd.plotly.v1+json": {
       "config": {
        "plotlyServerURL": "https://plot.ly"
       },
       "data": [
        {
         "alignmentgroup": "True",
         "hovertemplate": "day_of_week=%{x}<br>y=%{y}<extra></extra>",
         "legendgroup": "",
         "marker": {
          "color": "#636efa",
          "pattern": {
           "shape": ""
          }
         },
         "name": "",
         "offsetgroup": "",
         "orientation": "v",
         "showlegend": false,
         "text": [
          "9281 (14.16%)",
          "9029 (13.78%)",
          "7904 (12.06%)",
          "8678 (13.24%)",
          "10508 (16.03%)",
          "10825 (16.52%)",
          "9309 (14.20%)"
         ],
         "textposition": "outside",
         "type": "bar",
         "x": [
          "Monday",
          "Tuesday",
          "Wednesday",
          "Thursday",
          "Friday",
          "Saturday",
          "Sunday"
         ],
         "xaxis": "x",
         "y": [
          9281,
          9029,
          7904,
          8678,
          10508,
          10825,
          9309
         ],
         "yaxis": "y"
        },
        {
         "mode": "lines",
         "name": "Trend Line",
         "type": "scatter",
         "x": [
          "Monday",
          "Tuesday",
          "Wednesday",
          "Thursday",
          "Friday",
          "Saturday",
          "Sunday"
         ],
         "y": [
          8689.14285714286,
          8913.428571428576,
          9137.71428571429,
          9362.000000000004,
          9586.28571428572,
          9810.571428571435,
          10034.857142857149
         ]
        }
       ],
       "layout": {
        "barmode": "relative",
        "height": 600,
        "legend": {
         "tracegroupgap": 0
        },
        "margin": {
         "t": 60
        },
        "template": {
         "data": {
          "bar": [
           {
            "error_x": {
             "color": "#2a3f5f"
            },
            "error_y": {
             "color": "#2a3f5f"
            },
            "marker": {
             "line": {
              "color": "#E5ECF6",
              "width": 0.5
             },
             "pattern": {
              "fillmode": "overlay",
              "size": 10,
              "solidity": 0.2
             }
            },
            "type": "bar"
           }
          ],
          "barpolar": [
           {
            "marker": {
             "line": {
              "color": "#E5ECF6",
              "width": 0.5
             },
             "pattern": {
              "fillmode": "overlay",
              "size": 10,
              "solidity": 0.2
             }
            },
            "type": "barpolar"
           }
          ],
          "carpet": [
           {
            "aaxis": {
             "endlinecolor": "#2a3f5f",
             "gridcolor": "white",
             "linecolor": "white",
             "minorgridcolor": "white",
             "startlinecolor": "#2a3f5f"
            },
            "baxis": {
             "endlinecolor": "#2a3f5f",
             "gridcolor": "white",
             "linecolor": "white",
             "minorgridcolor": "white",
             "startlinecolor": "#2a3f5f"
            },
            "type": "carpet"
           }
          ],
          "choropleth": [
           {
            "colorbar": {
             "outlinewidth": 0,
             "ticks": ""
            },
            "type": "choropleth"
           }
          ],
          "contour": [
           {
            "colorbar": {
             "outlinewidth": 0,
             "ticks": ""
            },
            "colorscale": [
             [
              0,
              "#0d0887"
             ],
             [
              0.1111111111111111,
              "#46039f"
             ],
             [
              0.2222222222222222,
              "#7201a8"
             ],
             [
              0.3333333333333333,
              "#9c179e"
             ],
             [
              0.4444444444444444,
              "#bd3786"
             ],
             [
              0.5555555555555556,
              "#d8576b"
             ],
             [
              0.6666666666666666,
              "#ed7953"
             ],
             [
              0.7777777777777778,
              "#fb9f3a"
             ],
             [
              0.8888888888888888,
              "#fdca26"
             ],
             [
              1,
              "#f0f921"
             ]
            ],
            "type": "contour"
           }
          ],
          "contourcarpet": [
           {
            "colorbar": {
             "outlinewidth": 0,
             "ticks": ""
            },
            "type": "contourcarpet"
           }
          ],
          "heatmap": [
           {
            "colorbar": {
             "outlinewidth": 0,
             "ticks": ""
            },
            "colorscale": [
             [
              0,
              "#0d0887"
             ],
             [
              0.1111111111111111,
              "#46039f"
             ],
             [
              0.2222222222222222,
              "#7201a8"
             ],
             [
              0.3333333333333333,
              "#9c179e"
             ],
             [
              0.4444444444444444,
              "#bd3786"
             ],
             [
              0.5555555555555556,
              "#d8576b"
             ],
             [
              0.6666666666666666,
              "#ed7953"
             ],
             [
              0.7777777777777778,
              "#fb9f3a"
             ],
             [
              0.8888888888888888,
              "#fdca26"
             ],
             [
              1,
              "#f0f921"
             ]
            ],
            "type": "heatmap"
           }
          ],
          "heatmapgl": [
           {
            "colorbar": {
             "outlinewidth": 0,
             "ticks": ""
            },
            "colorscale": [
             [
              0,
              "#0d0887"
             ],
             [
              0.1111111111111111,
              "#46039f"
             ],
             [
              0.2222222222222222,
              "#7201a8"
             ],
             [
              0.3333333333333333,
              "#9c179e"
             ],
             [
              0.4444444444444444,
              "#bd3786"
             ],
             [
              0.5555555555555556,
              "#d8576b"
             ],
             [
              0.6666666666666666,
              "#ed7953"
             ],
             [
              0.7777777777777778,
              "#fb9f3a"
             ],
             [
              0.8888888888888888,
              "#fdca26"
             ],
             [
              1,
              "#f0f921"
             ]
            ],
            "type": "heatmapgl"
           }
          ],
          "histogram": [
           {
            "marker": {
             "pattern": {
              "fillmode": "overlay",
              "size": 10,
              "solidity": 0.2
             }
            },
            "type": "histogram"
           }
          ],
          "histogram2d": [
           {
            "colorbar": {
             "outlinewidth": 0,
             "ticks": ""
            },
            "colorscale": [
             [
              0,
              "#0d0887"
             ],
             [
              0.1111111111111111,
              "#46039f"
             ],
             [
              0.2222222222222222,
              "#7201a8"
             ],
             [
              0.3333333333333333,
              "#9c179e"
             ],
             [
              0.4444444444444444,
              "#bd3786"
             ],
             [
              0.5555555555555556,
              "#d8576b"
             ],
             [
              0.6666666666666666,
              "#ed7953"
             ],
             [
              0.7777777777777778,
              "#fb9f3a"
             ],
             [
              0.8888888888888888,
              "#fdca26"
             ],
             [
              1,
              "#f0f921"
             ]
            ],
            "type": "histogram2d"
           }
          ],
          "histogram2dcontour": [
           {
            "colorbar": {
             "outlinewidth": 0,
             "ticks": ""
            },
            "colorscale": [
             [
              0,
              "#0d0887"
             ],
             [
              0.1111111111111111,
              "#46039f"
             ],
             [
              0.2222222222222222,
              "#7201a8"
             ],
             [
              0.3333333333333333,
              "#9c179e"
             ],
             [
              0.4444444444444444,
              "#bd3786"
             ],
             [
              0.5555555555555556,
              "#d8576b"
             ],
             [
              0.6666666666666666,
              "#ed7953"
             ],
             [
              0.7777777777777778,
              "#fb9f3a"
             ],
             [
              0.8888888888888888,
              "#fdca26"
             ],
             [
              1,
              "#f0f921"
             ]
            ],
            "type": "histogram2dcontour"
           }
          ],
          "mesh3d": [
           {
            "colorbar": {
             "outlinewidth": 0,
             "ticks": ""
            },
            "type": "mesh3d"
           }
          ],
          "parcoords": [
           {
            "line": {
             "colorbar": {
              "outlinewidth": 0,
              "ticks": ""
             }
            },
            "type": "parcoords"
           }
          ],
          "pie": [
           {
            "automargin": true,
            "type": "pie"
           }
          ],
          "scatter": [
           {
            "fillpattern": {
             "fillmode": "overlay",
             "size": 10,
             "solidity": 0.2
            },
            "type": "scatter"
           }
          ],
          "scatter3d": [
           {
            "line": {
             "colorbar": {
              "outlinewidth": 0,
              "ticks": ""
             }
            },
            "marker": {
             "colorbar": {
              "outlinewidth": 0,
              "ticks": ""
             }
            },
            "type": "scatter3d"
           }
          ],
          "scattercarpet": [
           {
            "marker": {
             "colorbar": {
              "outlinewidth": 0,
              "ticks": ""
             }
            },
            "type": "scattercarpet"
           }
          ],
          "scattergeo": [
           {
            "marker": {
             "colorbar": {
              "outlinewidth": 0,
              "ticks": ""
             }
            },
            "type": "scattergeo"
           }
          ],
          "scattergl": [
           {
            "marker": {
             "colorbar": {
              "outlinewidth": 0,
              "ticks": ""
             }
            },
            "type": "scattergl"
           }
          ],
          "scattermapbox": [
           {
            "marker": {
             "colorbar": {
              "outlinewidth": 0,
              "ticks": ""
             }
            },
            "type": "scattermapbox"
           }
          ],
          "scatterpolar": [
           {
            "marker": {
             "colorbar": {
              "outlinewidth": 0,
              "ticks": ""
             }
            },
            "type": "scatterpolar"
           }
          ],
          "scatterpolargl": [
           {
            "marker": {
             "colorbar": {
              "outlinewidth": 0,
              "ticks": ""
             }
            },
            "type": "scatterpolargl"
           }
          ],
          "scatterternary": [
           {
            "marker": {
             "colorbar": {
              "outlinewidth": 0,
              "ticks": ""
             }
            },
            "type": "scatterternary"
           }
          ],
          "surface": [
           {
            "colorbar": {
             "outlinewidth": 0,
             "ticks": ""
            },
            "colorscale": [
             [
              0,
              "#0d0887"
             ],
             [
              0.1111111111111111,
              "#46039f"
             ],
             [
              0.2222222222222222,
              "#7201a8"
             ],
             [
              0.3333333333333333,
              "#9c179e"
             ],
             [
              0.4444444444444444,
              "#bd3786"
             ],
             [
              0.5555555555555556,
              "#d8576b"
             ],
             [
              0.6666666666666666,
              "#ed7953"
             ],
             [
              0.7777777777777778,
              "#fb9f3a"
             ],
             [
              0.8888888888888888,
              "#fdca26"
             ],
             [
              1,
              "#f0f921"
             ]
            ],
            "type": "surface"
           }
          ],
          "table": [
           {
            "cells": {
             "fill": {
              "color": "#EBF0F8"
             },
             "line": {
              "color": "white"
             }
            },
            "header": {
             "fill": {
              "color": "#C8D4E3"
             },
             "line": {
              "color": "white"
             }
            },
            "type": "table"
           }
          ]
         },
         "layout": {
          "annotationdefaults": {
           "arrowcolor": "#2a3f5f",
           "arrowhead": 0,
           "arrowwidth": 1
          },
          "autotypenumbers": "strict",
          "coloraxis": {
           "colorbar": {
            "outlinewidth": 0,
            "ticks": ""
           }
          },
          "colorscale": {
           "diverging": [
            [
             0,
             "#8e0152"
            ],
            [
             0.1,
             "#c51b7d"
            ],
            [
             0.2,
             "#de77ae"
            ],
            [
             0.3,
             "#f1b6da"
            ],
            [
             0.4,
             "#fde0ef"
            ],
            [
             0.5,
             "#f7f7f7"
            ],
            [
             0.6,
             "#e6f5d0"
            ],
            [
             0.7,
             "#b8e186"
            ],
            [
             0.8,
             "#7fbc41"
            ],
            [
             0.9,
             "#4d9221"
            ],
            [
             1,
             "#276419"
            ]
           ],
           "sequential": [
            [
             0,
             "#0d0887"
            ],
            [
             0.1111111111111111,
             "#46039f"
            ],
            [
             0.2222222222222222,
             "#7201a8"
            ],
            [
             0.3333333333333333,
             "#9c179e"
            ],
            [
             0.4444444444444444,
             "#bd3786"
            ],
            [
             0.5555555555555556,
             "#d8576b"
            ],
            [
             0.6666666666666666,
             "#ed7953"
            ],
            [
             0.7777777777777778,
             "#fb9f3a"
            ],
            [
             0.8888888888888888,
             "#fdca26"
            ],
            [
             1,
             "#f0f921"
            ]
           ],
           "sequentialminus": [
            [
             0,
             "#0d0887"
            ],
            [
             0.1111111111111111,
             "#46039f"
            ],
            [
             0.2222222222222222,
             "#7201a8"
            ],
            [
             0.3333333333333333,
             "#9c179e"
            ],
            [
             0.4444444444444444,
             "#bd3786"
            ],
            [
             0.5555555555555556,
             "#d8576b"
            ],
            [
             0.6666666666666666,
             "#ed7953"
            ],
            [
             0.7777777777777778,
             "#fb9f3a"
            ],
            [
             0.8888888888888888,
             "#fdca26"
            ],
            [
             1,
             "#f0f921"
            ]
           ]
          },
          "colorway": [
           "#636efa",
           "#EF553B",
           "#00cc96",
           "#ab63fa",
           "#FFA15A",
           "#19d3f3",
           "#FF6692",
           "#B6E880",
           "#FF97FF",
           "#FECB52"
          ],
          "font": {
           "color": "#2a3f5f"
          },
          "geo": {
           "bgcolor": "white",
           "lakecolor": "white",
           "landcolor": "#E5ECF6",
           "showlakes": true,
           "showland": true,
           "subunitcolor": "white"
          },
          "hoverlabel": {
           "align": "left"
          },
          "hovermode": "closest",
          "mapbox": {
           "style": "light"
          },
          "paper_bgcolor": "white",
          "plot_bgcolor": "#E5ECF6",
          "polar": {
           "angularaxis": {
            "gridcolor": "white",
            "linecolor": "white",
            "ticks": ""
           },
           "bgcolor": "#E5ECF6",
           "radialaxis": {
            "gridcolor": "white",
            "linecolor": "white",
            "ticks": ""
           }
          },
          "scene": {
           "xaxis": {
            "backgroundcolor": "#E5ECF6",
            "gridcolor": "white",
            "gridwidth": 2,
            "linecolor": "white",
            "showbackground": true,
            "ticks": "",
            "zerolinecolor": "white"
           },
           "yaxis": {
            "backgroundcolor": "#E5ECF6",
            "gridcolor": "white",
            "gridwidth": 2,
            "linecolor": "white",
            "showbackground": true,
            "ticks": "",
            "zerolinecolor": "white"
           },
           "zaxis": {
            "backgroundcolor": "#E5ECF6",
            "gridcolor": "white",
            "gridwidth": 2,
            "linecolor": "white",
            "showbackground": true,
            "ticks": "",
            "zerolinecolor": "white"
           }
          },
          "shapedefaults": {
           "line": {
            "color": "#2a3f5f"
           }
          },
          "ternary": {
           "aaxis": {
            "gridcolor": "white",
            "linecolor": "white",
            "ticks": ""
           },
           "baxis": {
            "gridcolor": "white",
            "linecolor": "white",
            "ticks": ""
           },
           "bgcolor": "#E5ECF6",
           "caxis": {
            "gridcolor": "white",
            "linecolor": "white",
            "ticks": ""
           }
          },
          "title": {
           "x": 0.05
          },
          "xaxis": {
           "automargin": true,
           "gridcolor": "white",
           "linecolor": "white",
           "ticks": "",
           "title": {
            "standoff": 15
           },
           "zerolinecolor": "white",
           "zerolinewidth": 2
          },
          "yaxis": {
           "automargin": true,
           "gridcolor": "white",
           "linecolor": "white",
           "ticks": "",
           "title": {
            "standoff": 15
           },
           "zerolinecolor": "white",
           "zerolinewidth": 2
          }
         }
        },
        "title": {
         "text": "Event Distribution by Day of the Week"
        },
        "uniformtext": {
         "minsize": 8,
         "mode": "hide"
        },
        "width": 1100,
        "xaxis": {
         "anchor": "y",
         "domain": [
          0,
          1
         ],
         "title": {
          "text": "Day of the Week"
         }
        },
        "yaxis": {
         "anchor": "x",
         "domain": [
          0,
          1
         ],
         "title": {
          "text": "Event Count"
         }
        }
       }
      },
      "text/html": [
       "<div>                            <div id=\"a3038ab3-35e9-4a8d-8db1-57bbc1528bb5\" class=\"plotly-graph-div\" style=\"height:600px; width:1100px;\"></div>            <script type=\"text/javascript\">                require([\"plotly\"], function(Plotly) {                    window.PLOTLYENV=window.PLOTLYENV || {};                                    if (document.getElementById(\"a3038ab3-35e9-4a8d-8db1-57bbc1528bb5\")) {                    Plotly.newPlot(                        \"a3038ab3-35e9-4a8d-8db1-57bbc1528bb5\",                        [{\"alignmentgroup\":\"True\",\"hovertemplate\":\"day_of_week=%{x}\\u003cbr\\u003ey=%{y}\\u003cextra\\u003e\\u003c\\u002fextra\\u003e\",\"legendgroup\":\"\",\"marker\":{\"color\":\"#636efa\",\"pattern\":{\"shape\":\"\"}},\"name\":\"\",\"offsetgroup\":\"\",\"orientation\":\"v\",\"showlegend\":false,\"textposition\":\"outside\",\"x\":[\"Monday\",\"Tuesday\",\"Wednesday\",\"Thursday\",\"Friday\",\"Saturday\",\"Sunday\"],\"xaxis\":\"x\",\"y\":[9281,9029,7904,8678,10508,10825,9309],\"yaxis\":\"y\",\"type\":\"bar\",\"text\":[\"9281 (14.16%)\",\"9029 (13.78%)\",\"7904 (12.06%)\",\"8678 (13.24%)\",\"10508 (16.03%)\",\"10825 (16.52%)\",\"9309 (14.20%)\"]},{\"mode\":\"lines\",\"name\":\"Trend Line\",\"x\":[\"Monday\",\"Tuesday\",\"Wednesday\",\"Thursday\",\"Friday\",\"Saturday\",\"Sunday\"],\"y\":[8689.14285714286,8913.428571428576,9137.71428571429,9362.000000000004,9586.28571428572,9810.571428571435,10034.857142857149],\"type\":\"scatter\"}],                        {\"template\":{\"data\":{\"histogram2dcontour\":[{\"type\":\"histogram2dcontour\",\"colorbar\":{\"outlinewidth\":0,\"ticks\":\"\"},\"colorscale\":[[0.0,\"#0d0887\"],[0.1111111111111111,\"#46039f\"],[0.2222222222222222,\"#7201a8\"],[0.3333333333333333,\"#9c179e\"],[0.4444444444444444,\"#bd3786\"],[0.5555555555555556,\"#d8576b\"],[0.6666666666666666,\"#ed7953\"],[0.7777777777777778,\"#fb9f3a\"],[0.8888888888888888,\"#fdca26\"],[1.0,\"#f0f921\"]]}],\"choropleth\":[{\"type\":\"choropleth\",\"colorbar\":{\"outlinewidth\":0,\"ticks\":\"\"}}],\"histogram2d\":[{\"type\":\"histogram2d\",\"colorbar\":{\"outlinewidth\":0,\"ticks\":\"\"},\"colorscale\":[[0.0,\"#0d0887\"],[0.1111111111111111,\"#46039f\"],[0.2222222222222222,\"#7201a8\"],[0.3333333333333333,\"#9c179e\"],[0.4444444444444444,\"#bd3786\"],[0.5555555555555556,\"#d8576b\"],[0.6666666666666666,\"#ed7953\"],[0.7777777777777778,\"#fb9f3a\"],[0.8888888888888888,\"#fdca26\"],[1.0,\"#f0f921\"]]}],\"heatmap\":[{\"type\":\"heatmap\",\"colorbar\":{\"outlinewidth\":0,\"ticks\":\"\"},\"colorscale\":[[0.0,\"#0d0887\"],[0.1111111111111111,\"#46039f\"],[0.2222222222222222,\"#7201a8\"],[0.3333333333333333,\"#9c179e\"],[0.4444444444444444,\"#bd3786\"],[0.5555555555555556,\"#d8576b\"],[0.6666666666666666,\"#ed7953\"],[0.7777777777777778,\"#fb9f3a\"],[0.8888888888888888,\"#fdca26\"],[1.0,\"#f0f921\"]]}],\"heatmapgl\":[{\"type\":\"heatmapgl\",\"colorbar\":{\"outlinewidth\":0,\"ticks\":\"\"},\"colorscale\":[[0.0,\"#0d0887\"],[0.1111111111111111,\"#46039f\"],[0.2222222222222222,\"#7201a8\"],[0.3333333333333333,\"#9c179e\"],[0.4444444444444444,\"#bd3786\"],[0.5555555555555556,\"#d8576b\"],[0.6666666666666666,\"#ed7953\"],[0.7777777777777778,\"#fb9f3a\"],[0.8888888888888888,\"#fdca26\"],[1.0,\"#f0f921\"]]}],\"contourcarpet\":[{\"type\":\"contourcarpet\",\"colorbar\":{\"outlinewidth\":0,\"ticks\":\"\"}}],\"contour\":[{\"type\":\"contour\",\"colorbar\":{\"outlinewidth\":0,\"ticks\":\"\"},\"colorscale\":[[0.0,\"#0d0887\"],[0.1111111111111111,\"#46039f\"],[0.2222222222222222,\"#7201a8\"],[0.3333333333333333,\"#9c179e\"],[0.4444444444444444,\"#bd3786\"],[0.5555555555555556,\"#d8576b\"],[0.6666666666666666,\"#ed7953\"],[0.7777777777777778,\"#fb9f3a\"],[0.8888888888888888,\"#fdca26\"],[1.0,\"#f0f921\"]]}],\"surface\":[{\"type\":\"surface\",\"colorbar\":{\"outlinewidth\":0,\"ticks\":\"\"},\"colorscale\":[[0.0,\"#0d0887\"],[0.1111111111111111,\"#46039f\"],[0.2222222222222222,\"#7201a8\"],[0.3333333333333333,\"#9c179e\"],[0.4444444444444444,\"#bd3786\"],[0.5555555555555556,\"#d8576b\"],[0.6666666666666666,\"#ed7953\"],[0.7777777777777778,\"#fb9f3a\"],[0.8888888888888888,\"#fdca26\"],[1.0,\"#f0f921\"]]}],\"mesh3d\":[{\"type\":\"mesh3d\",\"colorbar\":{\"outlinewidth\":0,\"ticks\":\"\"}}],\"scatter\":[{\"fillpattern\":{\"fillmode\":\"overlay\",\"size\":10,\"solidity\":0.2},\"type\":\"scatter\"}],\"parcoords\":[{\"type\":\"parcoords\",\"line\":{\"colorbar\":{\"outlinewidth\":0,\"ticks\":\"\"}}}],\"scatterpolargl\":[{\"type\":\"scatterpolargl\",\"marker\":{\"colorbar\":{\"outlinewidth\":0,\"ticks\":\"\"}}}],\"bar\":[{\"error_x\":{\"color\":\"#2a3f5f\"},\"error_y\":{\"color\":\"#2a3f5f\"},\"marker\":{\"line\":{\"color\":\"#E5ECF6\",\"width\":0.5},\"pattern\":{\"fillmode\":\"overlay\",\"size\":10,\"solidity\":0.2}},\"type\":\"bar\"}],\"scattergeo\":[{\"type\":\"scattergeo\",\"marker\":{\"colorbar\":{\"outlinewidth\":0,\"ticks\":\"\"}}}],\"scatterpolar\":[{\"type\":\"scatterpolar\",\"marker\":{\"colorbar\":{\"outlinewidth\":0,\"ticks\":\"\"}}}],\"histogram\":[{\"marker\":{\"pattern\":{\"fillmode\":\"overlay\",\"size\":10,\"solidity\":0.2}},\"type\":\"histogram\"}],\"scattergl\":[{\"type\":\"scattergl\",\"marker\":{\"colorbar\":{\"outlinewidth\":0,\"ticks\":\"\"}}}],\"scatter3d\":[{\"type\":\"scatter3d\",\"line\":{\"colorbar\":{\"outlinewidth\":0,\"ticks\":\"\"}},\"marker\":{\"colorbar\":{\"outlinewidth\":0,\"ticks\":\"\"}}}],\"scattermapbox\":[{\"type\":\"scattermapbox\",\"marker\":{\"colorbar\":{\"outlinewidth\":0,\"ticks\":\"\"}}}],\"scatterternary\":[{\"type\":\"scatterternary\",\"marker\":{\"colorbar\":{\"outlinewidth\":0,\"ticks\":\"\"}}}],\"scattercarpet\":[{\"type\":\"scattercarpet\",\"marker\":{\"colorbar\":{\"outlinewidth\":0,\"ticks\":\"\"}}}],\"carpet\":[{\"aaxis\":{\"endlinecolor\":\"#2a3f5f\",\"gridcolor\":\"white\",\"linecolor\":\"white\",\"minorgridcolor\":\"white\",\"startlinecolor\":\"#2a3f5f\"},\"baxis\":{\"endlinecolor\":\"#2a3f5f\",\"gridcolor\":\"white\",\"linecolor\":\"white\",\"minorgridcolor\":\"white\",\"startlinecolor\":\"#2a3f5f\"},\"type\":\"carpet\"}],\"table\":[{\"cells\":{\"fill\":{\"color\":\"#EBF0F8\"},\"line\":{\"color\":\"white\"}},\"header\":{\"fill\":{\"color\":\"#C8D4E3\"},\"line\":{\"color\":\"white\"}},\"type\":\"table\"}],\"barpolar\":[{\"marker\":{\"line\":{\"color\":\"#E5ECF6\",\"width\":0.5},\"pattern\":{\"fillmode\":\"overlay\",\"size\":10,\"solidity\":0.2}},\"type\":\"barpolar\"}],\"pie\":[{\"automargin\":true,\"type\":\"pie\"}]},\"layout\":{\"autotypenumbers\":\"strict\",\"colorway\":[\"#636efa\",\"#EF553B\",\"#00cc96\",\"#ab63fa\",\"#FFA15A\",\"#19d3f3\",\"#FF6692\",\"#B6E880\",\"#FF97FF\",\"#FECB52\"],\"font\":{\"color\":\"#2a3f5f\"},\"hovermode\":\"closest\",\"hoverlabel\":{\"align\":\"left\"},\"paper_bgcolor\":\"white\",\"plot_bgcolor\":\"#E5ECF6\",\"polar\":{\"bgcolor\":\"#E5ECF6\",\"angularaxis\":{\"gridcolor\":\"white\",\"linecolor\":\"white\",\"ticks\":\"\"},\"radialaxis\":{\"gridcolor\":\"white\",\"linecolor\":\"white\",\"ticks\":\"\"}},\"ternary\":{\"bgcolor\":\"#E5ECF6\",\"aaxis\":{\"gridcolor\":\"white\",\"linecolor\":\"white\",\"ticks\":\"\"},\"baxis\":{\"gridcolor\":\"white\",\"linecolor\":\"white\",\"ticks\":\"\"},\"caxis\":{\"gridcolor\":\"white\",\"linecolor\":\"white\",\"ticks\":\"\"}},\"coloraxis\":{\"colorbar\":{\"outlinewidth\":0,\"ticks\":\"\"}},\"colorscale\":{\"sequential\":[[0.0,\"#0d0887\"],[0.1111111111111111,\"#46039f\"],[0.2222222222222222,\"#7201a8\"],[0.3333333333333333,\"#9c179e\"],[0.4444444444444444,\"#bd3786\"],[0.5555555555555556,\"#d8576b\"],[0.6666666666666666,\"#ed7953\"],[0.7777777777777778,\"#fb9f3a\"],[0.8888888888888888,\"#fdca26\"],[1.0,\"#f0f921\"]],\"sequentialminus\":[[0.0,\"#0d0887\"],[0.1111111111111111,\"#46039f\"],[0.2222222222222222,\"#7201a8\"],[0.3333333333333333,\"#9c179e\"],[0.4444444444444444,\"#bd3786\"],[0.5555555555555556,\"#d8576b\"],[0.6666666666666666,\"#ed7953\"],[0.7777777777777778,\"#fb9f3a\"],[0.8888888888888888,\"#fdca26\"],[1.0,\"#f0f921\"]],\"diverging\":[[0,\"#8e0152\"],[0.1,\"#c51b7d\"],[0.2,\"#de77ae\"],[0.3,\"#f1b6da\"],[0.4,\"#fde0ef\"],[0.5,\"#f7f7f7\"],[0.6,\"#e6f5d0\"],[0.7,\"#b8e186\"],[0.8,\"#7fbc41\"],[0.9,\"#4d9221\"],[1,\"#276419\"]]},\"xaxis\":{\"gridcolor\":\"white\",\"linecolor\":\"white\",\"ticks\":\"\",\"title\":{\"standoff\":15},\"zerolinecolor\":\"white\",\"automargin\":true,\"zerolinewidth\":2},\"yaxis\":{\"gridcolor\":\"white\",\"linecolor\":\"white\",\"ticks\":\"\",\"title\":{\"standoff\":15},\"zerolinecolor\":\"white\",\"automargin\":true,\"zerolinewidth\":2},\"scene\":{\"xaxis\":{\"backgroundcolor\":\"#E5ECF6\",\"gridcolor\":\"white\",\"linecolor\":\"white\",\"showbackground\":true,\"ticks\":\"\",\"zerolinecolor\":\"white\",\"gridwidth\":2},\"yaxis\":{\"backgroundcolor\":\"#E5ECF6\",\"gridcolor\":\"white\",\"linecolor\":\"white\",\"showbackground\":true,\"ticks\":\"\",\"zerolinecolor\":\"white\",\"gridwidth\":2},\"zaxis\":{\"backgroundcolor\":\"#E5ECF6\",\"gridcolor\":\"white\",\"linecolor\":\"white\",\"showbackground\":true,\"ticks\":\"\",\"zerolinecolor\":\"white\",\"gridwidth\":2}},\"shapedefaults\":{\"line\":{\"color\":\"#2a3f5f\"}},\"annotationdefaults\":{\"arrowcolor\":\"#2a3f5f\",\"arrowhead\":0,\"arrowwidth\":1},\"geo\":{\"bgcolor\":\"white\",\"landcolor\":\"#E5ECF6\",\"subunitcolor\":\"white\",\"showland\":true,\"showlakes\":true,\"lakecolor\":\"white\"},\"title\":{\"x\":0.05},\"mapbox\":{\"style\":\"light\"}}},\"xaxis\":{\"anchor\":\"y\",\"domain\":[0.0,1.0],\"title\":{\"text\":\"Day of the Week\"}},\"yaxis\":{\"anchor\":\"x\",\"domain\":[0.0,1.0],\"title\":{\"text\":\"Event Count\"}},\"legend\":{\"tracegroupgap\":0},\"margin\":{\"t\":60},\"barmode\":\"relative\",\"title\":{\"text\":\"Event Distribution by Day of the Week\"},\"uniformtext\":{\"minsize\":8,\"mode\":\"hide\"},\"height\":600,\"width\":1100},                        {\"responsive\": true}                    ).then(function(){\n",
       "                            \n",
       "var gd = document.getElementById('a3038ab3-35e9-4a8d-8db1-57bbc1528bb5');\n",
       "var x = new MutationObserver(function (mutations, observer) {{\n",
       "        var display = window.getComputedStyle(gd).display;\n",
       "        if (!display || display === 'none') {{\n",
       "            console.log([gd, 'removed!']);\n",
       "            Plotly.purge(gd);\n",
       "            observer.disconnect();\n",
       "        }}\n",
       "}});\n",
       "\n",
       "// Listen for the removal of the full notebook cells\n",
       "var notebookContainer = gd.closest('#notebook-container');\n",
       "if (notebookContainer) {{\n",
       "    x.observe(notebookContainer, {childList: true});\n",
       "}}\n",
       "\n",
       "// Listen for the clearing of the current output cell\n",
       "var outputEl = gd.closest('.output');\n",
       "if (outputEl) {{\n",
       "    x.observe(outputEl, {childList: true});\n",
       "}}\n",
       "\n",
       "                        })                };                });            </script>        </div>"
      ]
     },
     "metadata": {},
     "output_type": "display_data"
    }
   ],
   "source": [
    "# Define a custom order for days of the week\n",
    "day_order = ['Monday', 'Tuesday', 'Wednesday', 'Thursday', 'Friday', 'Saturday', 'Sunday']\n",
    "\n",
    "# Count events by day of the week\n",
    "day_of_week_counts = df['day_of_week'].value_counts()\n",
    "\n",
    "# Sort the counts based on the custom day order\n",
    "day_of_week_counts = day_of_week_counts.reindex(day_order)\n",
    "\n",
    "# Create a bar plot to visualize the distribution\n",
    "fig = px.bar(day_of_week_counts, x=day_of_week_counts.index, y=day_of_week_counts.values)\n",
    "fig.update_layout(title='Event Distribution by Day of the Week', xaxis_title='Day of the Week', yaxis_title='Event Count')\n",
    "\n",
    "# Add value and percentage annotations\n",
    "total_events = day_of_week_counts.sum()\n",
    "annotations = [f\"{count} ({count/total_events*100:.2f}%)\" for count in day_of_week_counts]\n",
    "\n",
    "fig.update_traces(text=annotations, textposition='outside')\n",
    "fig.update_layout(uniformtext_minsize=8, uniformtext_mode='hide')\n",
    "fig.update_layout(height=600, width=1500)\n",
    "\n",
    "# Add a trend line\n",
    "day_of_week_counts = day_of_week_counts.reset_index()\n",
    "day_of_week_counts.columns = ['day_of_week', 'event_count']\n",
    "day_of_week_counts['day_index'] = day_of_week_counts['day_of_week'].apply(lambda x: day_order.index(x))\n",
    "X = sm.add_constant(day_of_week_counts['day_index'])\n",
    "y = day_of_week_counts['event_count']\n",
    "\n",
    "model = sm.OLS(y, X).fit()\n",
    "trend_line = model.predict(X)\n",
    "\n",
    "fig.add_scatter(x=day_order, y=trend_line, mode='lines', name='Trend Line')\n",
    "fig.update_layout(height=600, width=1100)\n",
    "\n",
    "fig.show()\n"
   ]
  },
  {
   "cell_type": "markdown",
   "metadata": {},
   "source": [
    "#### <b><span style='color:#FF0000'> NOTE :</span></b>\n",
    "\n",
    "**1)The highest number of events occurs on Friday accounting for 16% of the weekly events.**\\\n",
    "**2)Wednesday records the lowest number of events accounting for 12.06 % of the weekly events.**\\\n",
    "**3)A steadily increasing trend is noticeable from Wednesday to Friday.**\\\n",
    "**4)The trend line shows an upward trajectory from Monday to Saturday indicating a rise in event as the week progresses, with slight drop on Sunday.**\n",
    "\n",
    "**In summary,our peak is on Friday and the dip is on Wednesday with general increasing trend from start to end of the week.**\n",
    "\n"
   ]
  },
  {
   "cell_type": "markdown",
   "metadata": {},
   "source": [
    "#### EVENT DISTRIBUTION STUDY"
   ]
  },
  {
   "cell_type": "code",
   "execution_count": null,
   "metadata": {},
   "outputs": [],
   "source": [
    "# Define the custom order for event names\n",
    "custom_order = [\n",
    "    \"pickup_shown\",\n",
    "    \"pickup_confirmed\",\n",
    "    \"pickup_address_typed\",\n",
    "    \"dropoff_shown\",\n",
    "    \"dropoff_confirmed\",\n",
    "    \"dropoff_address_typed\",\n",
    "    \"payments_shown\",\n",
    "    \"payments_selected\",\n",
    "    \"ride_order_tapped\"\n",
    "]\n",
    "\n",
    "# Example: Histogram of event counts using Plotly with custom order and larger size\n",
    "fig = px.histogram(df, x='event_name', title='Event Name Distribution')\n",
    "\n",
    "# Calculate event counts and percentages\n",
    "event_counts = df['event_name'].value_counts()\n",
    "total_count = event_counts.sum()\n",
    "event_percentages = (event_counts / total_count) * 100\n",
    "\n",
    "# Create custom labels for annotations\n",
    "annotations = [f\"{count} ({percent:.2f}%)\" for count, percent in zip(event_counts, event_percentages)]\n",
    "\n",
    "# Add annotations on top of the bars\n",
    "fig.update_traces(text=annotations, textposition='outside')\n",
    "fig.update_layout(uniformtext_minsize=8, uniformtext_mode='hide')\n",
    "\n",
    "# Set the custom order for the x-axis categories\n",
    "fig.update_xaxes(title_text='Event Name', categoryorder='array', categoryarray=custom_order)\n",
    "fig.update_yaxes(title_text='Count')\n",
    "\n",
    "# Add a trend line\n",
    "event_counts_df = pd.DataFrame({'event_name': custom_order, 'event_count': event_counts})\n",
    "event_counts_df['event_index'] = event_counts_df['event_name'].apply(lambda x: custom_order.index(x))\n",
    "X = sm.add_constant(event_counts_df['event_index'])\n",
    "y = event_counts_df['event_count']\n",
    "\n",
    "model = sm.OLS(y, X).fit()\n",
    "trend_line = model.predict(X)\n",
    "\n",
    "fig.add_scatter(x=custom_order, y=trend_line, mode='lines', name='Trend Line')\n",
    "\n",
    "fig.update_layout(height=600, width=1100) \n",
    "\n",
    "fig.show()\n"
   ]
  },
  {
   "cell_type": "markdown",
   "metadata": {},
   "source": [
    "#### <b><span style='color:#FF0000'> NOTE :</span></b>\n",
    "\n",
    "**1)The pickup_shown has the highest occurance of 27%.**\\\n",
    "**2)The lowest frequent event is ride_order_tapped with just 1.75 % (A clear sign here showing a big bounce rate).**\\\n",
    "**3)A steep downward trend is observed from 'pickup_shown' to 'ride_order_tapped'.**\\\n",
    "**4)The trend line shows an upward trajectory from Monday to Saturday indicating a rise in event as the week progresses, with slight drop on Sunday.**\n",
    "\n",
    "**In summary,we can clearly observe that users progress throught stages decreases throughout and very few of them make it to the final step.**\n",
    "\n"
   ]
  },
  {
   "cell_type": "markdown",
   "metadata": {},
   "source": [
    "#### PREORDER FUNNEL"
   ]
  },
  {
   "cell_type": "code",
   "execution_count": null,
   "metadata": {},
   "outputs": [],
   "source": [
    "import pandas as pd\n",
    "import plotly.graph_objs as go\n",
    "\n",
    "# Assuming you have loaded your data into a DataFrame named 'df'\n",
    "funnel_stages = {\n",
    "    \"pickup_shown\": df[df['event_name'] == 'pickup_shown']['device_id'].nunique(),\n",
    "    \"pickup_address_typed\": df[df['event_name'] == 'pickup_address_typed']['device_id'].nunique(),\n",
    "    \"pickup_confirmed\": df[df['event_name'] == 'pickup_confirmed']['device_id'].nunique(),\n",
    "    \"dropoff_shown\": df[df['event_name'] == 'dropoff_shown']['device_id'].nunique(),\n",
    "    \"dropoff_address_typed\": df[df['event_name'] == 'dropoff_address_typed']['device_id'].nunique(),\n",
    "    \"dropoff_confirmed\": df[df['event_name'] == 'dropoff_confirmed']['device_id'].nunique(),\n",
    "    \"payments_shown\": df[df['event_name'] == 'payments_shown']['device_id'].nunique(),\n",
    "    \"payments_selected\": df[df['event_name'] == 'payments_selected']['device_id'].nunique(),\n",
    "    \"ride_order_tapped\": df[df['event_name'] == 'ride_order_tapped']['device_id'].nunique()\n",
    "}\n",
    "\n",
    "# Calculate the percentages relative to the initial stage\n",
    "initial_stage_count = funnel_stages[\"pickup_shown\"]\n",
    "percentage = {stage: (count / initial_stage_count) * 100 for stage, count in funnel_stages.items()}\n",
    "\n",
    "# Create a funnel chart\n",
    "fig = go.Figure(go.Funnel(\n",
    "    y=list(funnel_stages.keys()),\n",
    "    x=list(funnel_stages.values()),\n",
    "    textinfo=\"value+percent initial\",\n",
    "    text=list(funnel_stages.values()),\n",
    "    opacity=0.7,\n",
    "    marker={\"color\": ['blue', 'green', 'yellow', 'red', 'purple', 'orange', 'pink', 'cyan', 'magenta']}\n",
    "))\n",
    "\n",
    "fig.update_layout(\n",
    "    title=\"Preorder Funnel\",\n",
    "    xaxis_title=\"Number of Sessions\",\n",
    "    yaxis_title=\"Funnel Stages\",\n",
    ")\n",
    "fig.update_layout(height=600, width=1100)\n",
    "\n",
    "fig.show()\n"
   ]
  },
  {
   "cell_type": "markdown",
   "metadata": {},
   "source": [
    "#### <b><span style='color:#FF0000'> NOTE :</span></b>\n",
    "\n",
    "**The Preorder funnel shows high retentation rate through most satges with a notable decline in user progression at the payment selection phase, the funnel definitely helps identify potential drop-off points in the user journey where improvements must be made.**\n",
    "\n"
   ]
  },
  {
   "cell_type": "markdown",
   "metadata": {},
   "source": [
    "#### HOURLY FUNNEL\n",
    "\n",
    "## <b>3.2 <span style='color:#be6f37'> Aggregating & grouping values to visualize purchasing behaviour</span></b>"
   ]
  },
  {
   "cell_type": "code",
   "execution_count": null,
   "metadata": {},
   "outputs": [],
   "source": [
    "# Convert 'timestamp' to datetime\n",
    "df['timestamp'] = pd.to_datetime(df['timestamp'])\n",
    "\n",
    "# Define your funnel stages\n",
    "funnel_stages = {\n",
    "    \"pickup_shown\": \"pickup_shown\",\n",
    "    \"pickup_confirmed\": \"pickup_confirmed\",\n",
    "    \"pickup_address_typed\": \"pickup_address_typed\",\n",
    "    \"dropoff_shown\": \"dropoff_shown\",\n",
    "     \"dropoff_confirmed\": \"dropoff_confirmed\",\n",
    "    \"dropoff_address_typed\": \"dropoff_address_typed\",\n",
    "    \"payments_shown\": \"payments_shown\",\n",
    "    \"payments_selected\": \"payments_selected\",\n",
    "    \"ride_order_tapped\": \"ride_order_tapped\"\n",
    "}\n",
    "\n",
    "# Define the date range\n",
    "start_date = pd.Timestamp('2020-10-01')\n",
    "end_date = pd.Timestamp('2020-10-07')\n",
    "\n",
    "# Filter the data for the specified date range\n",
    "filtered_df = df[(df['timestamp'] >= start_date) & (df['timestamp'] <= end_date)]\n",
    "\n",
    "# Create a pivot table to count events for each stage and hour of the day\n",
    "pivot_df = pd.pivot_table(filtered_df, index=filtered_df['timestamp'].dt.hour, columns=filtered_df['event_name'], values='device_id', aggfunc='nunique', fill_value=0)\n",
    "\n",
    "# Calculate the total devices for each hour of the day\n",
    "pivot_df['total_devices'] = pivot_df[funnel_stages.values()].sum(axis=1)\n",
    "\n",
    "# Calculate the percentages for each stage in each hour of the day\n",
    "for stage in funnel_stages:\n",
    "    pivot_df[f'{stage}_percentage'] = (pivot_df[stage] / pivot_df['total_devices']) * 100\n",
    "\n",
    "# Create a granular funnel chart based on the hour of the day\n",
    "fig = px.line(pivot_df, x=pivot_df.index, y=[f'{stage}_percentage' for stage in funnel_stages.keys()], title=\"Hourly Funnel (2020-10-01 to 2020-10-07)\")\n",
    "\n",
    "\n",
    "# Show the funnel chart\n",
    "fig.show()\n"
   ]
  },
  {
   "cell_type": "markdown",
   "metadata": {},
   "source": [
    "#### MINUTE-LEVEL FUNNEL"
   ]
  },
  {
   "cell_type": "code",
   "execution_count": null,
   "metadata": {},
   "outputs": [],
   "source": [
    "# Convert 'timestamp' to datetime\n",
    "df['timestamp'] = pd.to_datetime(df['timestamp'])\n",
    "\n",
    "# Define your funnel stages\n",
    "funnel_stages = {\n",
    "    \"pickup_shown\": \"pickup_shown\",\n",
    "    \"pickup_address_typed\": \"pickup_address_typed\",\n",
    "    \"pickup_confirmed\": \"pickup_confirmed\",\n",
    "    \"dropoff_shown\": \"dropoff_shown\",\n",
    "    \"dropoff_address_typed\": \"dropoff_address_typed\",\n",
    "    \"dropoff_confirmed\": \"dropoff_confirmed\",\n",
    "    \"payments_shown\": \"payments_shown\",\n",
    "    \"payments_selected\": \"payments_selected\",\n",
    "    \"ride_order_tapped\": \"ride_order_tapped\"\n",
    "}\n",
    "\n",
    "# Define the date range\n",
    "start_date = pd.Timestamp('2020-10-01')\n",
    "end_date = pd.Timestamp('2020-10-07')\n",
    "\n",
    "# Filter the data for the specified date range\n",
    "filtered_df = df[(df['timestamp'] >= start_date) & (df['timestamp'] <= end_date)]\n",
    "\n",
    "# Create a pivot table to count events for each stage and minute of the day\n",
    "pivot_df = pd.pivot_table(filtered_df, index=filtered_df['timestamp'].dt.strftime('%H:%M'), columns=filtered_df['event_name'], values='device_id', aggfunc='nunique', fill_value=0)\n",
    "\n",
    "# Calculate the total devices for each minute of the day\n",
    "pivot_df['total_devices'] = pivot_df[funnel_stages.values()].sum(axis=1)\n",
    "\n",
    "# Calculate the percentages for each stage in each minute of the day\n",
    "for stage in funnel_stages:\n",
    "    pivot_df[f'{stage}_percentage'] = (pivot_df[stage] / pivot_df['total_devices']) * 100\n",
    "\n",
    "# Apply a smoothing technique (e.g., 5-minute moving average) to reduce noise\n",
    "pivot_df_smoothed = pivot_df.rolling(window=5).mean()\n",
    "\n",
    "# Create an interactive plot with smoothed data\n",
    "fig = px.line(pivot_df_smoothed, x=pivot_df_smoothed.index, y=[f'{stage}_percentage' for stage in funnel_stages.keys()], title=\"Minute-Level Funnel (2020-10-01 to 2020-10-07)\")\n",
    "\n",
    "# Customize the plot appearance\n",
    "fig.update_layout(\n",
    "    xaxis_title=\"Time of Day\",\n",
    "    yaxis_title=\"Percentage\",\n",
    "    showlegend=True,  # Display legend for stages\n",
    "    legend_title=\"Funnel Stages\",\n",
    "    xaxis=dict(tickmode='auto', nticks=10),  # Customize x-axis ticks for readability\n",
    "    yaxis=dict(range=[0, 100]),  # Set a fixed y-axis range\n",
    ")\n",
    "\n",
    "# Add trendlines for each stage\n",
    "for stage in funnel_stages:\n",
    "    fig.add_trace(go.Scatter(x=pivot_df_smoothed.index, y=pivot_df_smoothed[f'{stage}_percentage'], mode='lines', name=f'{stage}_trendline'))\n",
    "\n",
    "# Show the plot\n",
    "fig.show()\n"
   ]
  },
  {
   "cell_type": "markdown",
   "metadata": {},
   "source": [
    "#### WEEKLY EVENT FUNNEL"
   ]
  },
  {
   "cell_type": "code",
   "execution_count": null,
   "metadata": {},
   "outputs": [],
   "source": [
    "# Convert 'timestamp' to datetime\n",
    "df['timestamp'] = pd.to_datetime(df['timestamp'])\n",
    "\n",
    "# Extract the day of the week\n",
    "df['day_of_week'] = df['timestamp'].dt.day_name()\n",
    "\n",
    "# Create a pivot table\n",
    "pivot_table = pd.pivot_table(df, values='event_name', index='day_of_week', aggfunc='count', fill_value=0)\n",
    "\n",
    "# Reorder the days of the week in descending order of event counts\n",
    "day_order = pivot_table.sum(axis=1).sort_values(ascending=False).index\n",
    "pivot_table = pivot_table.reindex(day_order)\n",
    "\n",
    "# Create a heatmap\n",
    "plt.figure(figsize=(12, 13))\n",
    "sns.heatmap(pivot_table, cmap='viridis', annot=True, fmt='d', cbar_kws={'label': 'Event Count'})\n",
    "plt.title('Event Distribution by Day of the Week')\n",
    "plt.xlabel('Day of the Week')\n",
    "plt.ylabel('')\n",
    "plt.show()\n"
   ]
  },
  {
   "cell_type": "code",
   "execution_count": null,
   "metadata": {},
   "outputs": [],
   "source": [
    "df"
   ]
  },
  {
   "cell_type": "code",
   "execution_count": null,
   "metadata": {},
   "outputs": [],
   "source": [
    "df.drop(['timestamp'], axis=1)"
   ]
  },
  {
   "cell_type": "markdown",
   "metadata": {},
   "source": [
    "#### CORRELATION STUDY"
   ]
  },
  {
   "cell_type": "code",
   "execution_count": null,
   "metadata": {},
   "outputs": [],
   "source": [
    "# Extract hour and day of the week from the 'Time' column\n",
    "df['Hour'] = df['Time'].str.split(':').str[0].astype(int)\n",
    "df['Day_of_Week'] = pd.Categorical(df['day_of_week'], categories=['Monday', 'Tuesday', 'Wednesday', 'Thursday', 'Friday', 'Saturday', 'Sunday'], ordered=True)\n",
    "\n",
    "# Create a pivot table for user activity by hour and day of the week\n",
    "heatmap_data = df.pivot_table(index='Hour', columns='Day_of_Week', values='device_id', aggfunc='count', fill_value=0)\n",
    "\n",
    "# Create the heatmap using Plotly\n",
    "fig = px.imshow(heatmap_data, x=heatmap_data.columns, y=heatmap_data.index, color_continuous_scale='Viridis')\n",
    "\n",
    "# Customize the heatmap appearance\n",
    "fig.update_layout(\n",
    "    title='User Activity Heatmap by Hour and Day of the Week',\n",
    "    xaxis_title='Day of the Week',\n",
    "    yaxis_title='Hour of the Day',\n",
    "    xaxis_nticks=len(heatmap_data.columns),\n",
    "    yaxis_nticks=len(heatmap_data.index),\n",
    ")\n",
    "\n",
    "# Show the heatmap\n",
    "fig.show()"
   ]
  }
 ],
 "metadata": {
  "kernelspec": {
   "display_name": ".venv",
   "language": "python",
   "name": "python3"
  },
  "language_info": {
   "codemirror_mode": {
    "name": "ipython",
    "version": 3
   },
   "file_extension": ".py",
   "mimetype": "text/x-python",
   "name": "python",
   "nbconvert_exporter": "python",
   "pygments_lexer": "ipython3",
   "version": "3.8.5"
  },
  "orig_nbformat": 4
 },
 "nbformat": 4,
 "nbformat_minor": 2
}
